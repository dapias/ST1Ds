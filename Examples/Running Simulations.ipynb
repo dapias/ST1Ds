{
 "cells": [
  {
   "cell_type": "markdown",
   "metadata": {
    "collapsed": true
   },
   "source": [
    "# Ergodicity and Density Dynamics simulations"
   ]
  },
  {
   "cell_type": "markdown",
   "metadata": {},
   "source": [
    "The parameters are saved in the file `parameters.jl`. Let's start by importing the module ST1Ds.jl"
   ]
  },
  {
   "cell_type": "code",
   "execution_count": 1,
   "metadata": {
    "collapsed": true
   },
   "outputs": [],
   "source": [
    "include(\"../src/ST1Ds.jl\")\n",
    "using ST1Ds"
   ]
  },
  {
   "cell_type": "markdown",
   "metadata": {},
   "source": [
    "Let's import the parameters file"
   ]
  },
  {
   "cell_type": "code",
   "execution_count": 2,
   "metadata": {
    "collapsed": false
   },
   "outputs": [
    {
     "data": {
      "text/plain": [
       "ST1Ds.Integrator{ODE.#ode45_dp}(\"RK45\",ODE.ode45_dp)"
      ]
     },
     "execution_count": 2,
     "metadata": {},
     "output_type": "execute_result"
    }
   ],
   "source": [
    "include(\"parameters.jl\")"
   ]
  },
  {
   "cell_type": "markdown",
   "metadata": {},
   "source": [
    "And codify them in the predefined type Parameters"
   ]
  },
  {
   "cell_type": "code",
   "execution_count": 3,
   "metadata": {
    "collapsed": false
   },
   "outputs": [
    {
     "data": {
      "text/plain": [
       "ST1Ds.Parameters(\"trajectory\",1.0,0.1,0.0125,0.0125,3,50000,ST1Ds.Thermostat{##1#2}(\"logistic\",0.1,#1),ST1Ds.Potential{##3#4}(\"quartic\",#3),ST1Ds.Integrator{ODE.#ode45_dp}(\"RK45\",ODE.ode45_dp))"
      ]
     },
     "execution_count": 3,
     "metadata": {},
     "output_type": "execute_result"
    }
   ],
   "source": [
    "parameters = Parameters(results, T, Q, dtsampling, dt, nsimulations, nsteps, thermo, potential, integrator)"
   ]
  },
  {
   "cell_type": "markdown",
   "metadata": {},
   "source": [
    "You may change the parameters from here. For instance, let's change the integrator from an adaptative RK45 to a Runge Kutta RK4 with fixed stepsize (the integrator, for the moment, must be supported in the package [ODE.jl](https://github.com/JuliaDiffEq/ODE.jl)"
   ]
  },
  {
   "cell_type": "code",
   "execution_count": 4,
   "metadata": {
    "collapsed": false
   },
   "outputs": [
    {
     "data": {
      "text/plain": [
       "ST1Ds.Integrator{ODE.#ode45_dp}(\"RK45\",ODE.ode45_dp)"
      ]
     },
     "execution_count": 4,
     "metadata": {},
     "output_type": "execute_result"
    }
   ],
   "source": [
    "parameters.integrator"
   ]
  },
  {
   "cell_type": "code",
   "execution_count": 5,
   "metadata": {
    "collapsed": false
   },
   "outputs": [
    {
     "data": {
      "text/plain": [
       "ST1Ds.Integrator{ODE.#ode4}(\"RK4\",ODE.ode4)"
      ]
     },
     "execution_count": 5,
     "metadata": {},
     "output_type": "execute_result"
    }
   ],
   "source": [
    "parameters.integrator = Integrator(\"RK4\", ode4)"
   ]
  },
  {
   "cell_type": "markdown",
   "metadata": {},
   "source": [
    "And let's compute the lyapunov exponents by changing the parameter `results`"
   ]
  },
  {
   "cell_type": "code",
   "execution_count": 6,
   "metadata": {
    "collapsed": false
   },
   "outputs": [
    {
     "data": {
      "text/plain": [
       "\"lyapunov\""
      ]
     },
     "execution_count": 6,
     "metadata": {},
     "output_type": "execute_result"
    }
   ],
   "source": [
    "parameters.results = \"lyapunov\""
   ]
  },
  {
   "cell_type": "markdown",
   "metadata": {},
   "source": [
    "We are ready to calculate the Lyapunov Spectrum for `nsimulations` initial conditions"
   ]
  },
  {
   "cell_type": "code",
   "execution_count": 7,
   "metadata": {
    "collapsed": false
   },
   "outputs": [
    {
     "data": {
      "text/plain": [
       "3"
      ]
     },
     "execution_count": 7,
     "metadata": {},
     "output_type": "execute_result"
    }
   ],
   "source": [
    "parameters.nsimulations"
   ]
  },
  {
   "cell_type": "code",
   "execution_count": 8,
   "metadata": {
    "collapsed": false
   },
   "outputs": [
    {
     "name": "stdout",
     "output_type": "stream",
     "text": [
      "Simulation1 done\n",
      "Simulation2 done\n",
      "Simulation3 done\n",
      "File lyap3VSQv.hdf5 succesfully generated. See file in ../data/\n"
     ]
    }
   ],
   "source": [
    "runsimulation(parameters)"
   ]
  },
  {
   "cell_type": "markdown",
   "metadata": {},
   "source": [
    "The Lyapunov Spectrum were generated in the created folder ../data/. Let's explore them"
   ]
  },
  {
   "cell_type": "code",
   "execution_count": 9,
   "metadata": {
    "collapsed": false
   },
   "outputs": [
    {
     "data": {
      "text/plain": [
       "Dict{String,Any} with 4 entries:\n",
       "  \"exp2\"        => -0.00292707\n",
       "  \"exp3\"        => -0.275833\n",
       "  \"initialcond\" => [1.06962,1.54251,-0.16238]\n",
       "  \"exp1\"        => 0.279424"
      ]
     },
     "execution_count": 9,
     "metadata": {},
     "output_type": "execute_result"
    }
   ],
   "source": [
    "using HDF5\n",
    "file = h5open(\"../data/lyap3VSQv.hdf5\")\n",
    "sim1 = read(file[\"simulation-2\"])"
   ]
  },
  {
   "cell_type": "markdown",
   "metadata": {},
   "source": [
    "Now, let's integrate an initial random condition for a total time equal to `nsteps*dt*nsimulations`"
   ]
  },
  {
   "cell_type": "code",
   "execution_count": 11,
   "metadata": {
    "collapsed": false
   },
   "outputs": [
    {
     "data": {
      "text/plain": [
       "\"trajectory\""
      ]
     },
     "execution_count": 11,
     "metadata": {},
     "output_type": "execute_result"
    }
   ],
   "source": [
    "parameters.results = \"trajectory\""
   ]
  },
  {
   "cell_type": "code",
   "execution_count": 12,
   "metadata": {
    "collapsed": false
   },
   "outputs": [
    {
     "name": "stdout",
     "output_type": "stream",
     "text": [
      "Part 1 done. \n",
      "Part 2 done.\n",
      "Part 3 done.\n",
      "Trajectory trajF5dGP.hdf5 succesfully generated. See file in ../data\n"
     ]
    }
   ],
   "source": [
    "runsimulation(parameters)"
   ]
  },
  {
   "cell_type": "markdown",
   "metadata": {},
   "source": [
    "The whole trajectory is saved in the file printed. Let's explore it"
   ]
  },
  {
   "cell_type": "code",
   "execution_count": 13,
   "metadata": {
    "collapsed": false
   },
   "outputs": [
    {
     "data": {
      "text/plain": [
       "150001×4 Array{Float64,2}:\n",
       "    0.0     0.770123  -0.101452   0.00632879\n",
       "    0.0125  0.76882   -0.107142  -0.00603537\n",
       "    0.025   0.767441  -0.113652  -0.0183832 \n",
       "    0.0375  0.765975  -0.12108   -0.0307112 \n",
       "    0.05    0.76441   -0.129538  -0.0430151 \n",
       "    0.0625  0.762731  -0.139151  -0.0552897 \n",
       "    0.075   0.760925  -0.150061  -0.0675287 \n",
       "    0.0875  0.758974  -0.162429  -0.0797238 \n",
       "    0.1     0.756858  -0.176436  -0.0918654 \n",
       "    0.1125  0.754555  -0.192286  -0.103941  \n",
       "    0.125   0.752042  -0.21021   -0.115935  \n",
       "    0.1375  0.74929   -0.230466  -0.127829  \n",
       "    0.15    0.746269  -0.253343  -0.139599  \n",
       "    ⋮                                       \n",
       " 1874.86    1.30256    1.57748    0.0437062 \n",
       " 1874.88    1.32181    1.4999     0.0608522 \n",
       " 1874.89    1.34001    1.41079    0.0748629 \n",
       " 1874.9     1.35705    1.31507    0.0856048 \n",
       " 1874.91    1.37288    1.21679    0.0931493 \n",
       " 1874.92    1.38747    1.11899    0.0977047 \n",
       " 1874.94    1.40086    1.02386    0.0995558 \n",
       " 1874.95    1.41309    0.932796   0.0990191 \n",
       " 1874.96    1.4242     0.846654   0.0964123 \n",
       " 1874.97    1.43428    0.765856   0.0920356 \n",
       " 1874.99    1.44337    0.690515   0.0861614 \n",
       " 1875.0     1.45156    0.620531   0.0790308 "
      ]
     },
     "execution_count": 13,
     "metadata": {},
     "output_type": "execute_result"
    }
   ],
   "source": [
    "file = h5open(\"../data/trajF5dGP.hdf5\")\n",
    "trajectory = read(file[\"tx\"])"
   ]
  },
  {
   "cell_type": "markdown",
   "metadata": {},
   "source": [
    "The data is saved in the format \n",
    "    $$t \\quad q \\quad p \\quad ζ$$\n",
    "You may plot it "
   ]
  },
  {
   "cell_type": "code",
   "execution_count": null,
   "metadata": {
    "collapsed": true
   },
   "outputs": [],
   "source": [
    "using PyPlot"
   ]
  }
 ],
 "metadata": {
  "kernelspec": {
   "display_name": "Julia 0.5.0",
   "language": "julia",
   "name": "julia-0.5"
  },
  "language_info": {
   "file_extension": ".jl",
   "mimetype": "application/julia",
   "name": "julia",
   "version": "0.5.0"
  }
 },
 "nbformat": 4,
 "nbformat_minor": 0
}
